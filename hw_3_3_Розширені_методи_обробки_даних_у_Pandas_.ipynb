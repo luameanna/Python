{
 "cells": [
  {
   "cell_type": "markdown",
   "metadata": {
    "id": "wF6xe36Osbxi"
   },
   "source": [
    "# Домашнє завдання до теми \"Розширені методи обробки даних у Pandas\""
   ]
  },
  {
   "cell_type": "markdown",
   "metadata": {
    "id": "Fa2CIJElO3L3"
   },
   "source": [
    "В цьому домашньому завданні продовжуємо працювати з набором даних `supermarket_sales.csv`."
   ]
  },
  {
   "cell_type": "markdown",
   "metadata": {
    "id": "z0F_6xB-DQi7"
   },
   "source": [
    "0. Імпортуйте бібліотеку pandas та зчитайте дані у змінну `df` типу `pandas.DataFrame`."
   ]
  },
  {
   "cell_type": "code",
   "execution_count": 2,
   "metadata": {
    "id": "-4jR3F-rDQi7"
   },
   "outputs": [],
   "source": [
    "import pandas as pd"
   ]
  },
  {
   "cell_type": "code",
   "execution_count": 3,
   "metadata": {},
   "outputs": [
    {
     "data": {
      "text/plain": [
       "['.ipynb_checkpoints',\n",
       " 'hw_3_1_Введення_у_Pandas_та_NumPy_.ipynb',\n",
       " 'hw_3_1_Введення_у_Pandas_та_NumPy_Solution.ipynb',\n",
       " 'hw_3_2_Основи_роботи_з_даними_у_Pandas.ipynb',\n",
       " 'hw_3_2_Основи_роботи_з_даними_у_Pandas_Solution.ipynb',\n",
       " 'hw_3_3_Розширені_методи_обробки_даних_у_Pandas_.ipynb']"
      ]
     },
     "execution_count": 3,
     "metadata": {},
     "output_type": "execute_result"
    }
   ],
   "source": [
    "import os\n",
    "os.listdir()"
   ]
  },
  {
   "cell_type": "code",
   "execution_count": 4,
   "metadata": {},
   "outputs": [],
   "source": [
    "df = pd.read_csv('../data/supermarket_sales.csv')"
   ]
  },
  {
   "cell_type": "markdown",
   "metadata": {
    "id": "hH26_h5wOLfj"
   },
   "source": [
    "1. Відсортуйте дані за спаданням ціни товара ('Unit price') і виведіть 5 перших рядочків на екран."
   ]
  },
  {
   "cell_type": "code",
   "execution_count": 5,
   "metadata": {
    "id": "C_CMIujQN9s6"
   },
   "outputs": [
    {
     "data": {
      "text/plain": [
       "pandas.core.frame.DataFrame"
      ]
     },
     "execution_count": 5,
     "metadata": {},
     "output_type": "execute_result"
    }
   ],
   "source": [
    "type(df)"
   ]
  },
  {
   "cell_type": "code",
   "execution_count": 6,
   "metadata": {},
   "outputs": [
    {
     "data": {
      "text/html": [
       "<div>\n",
       "<style scoped>\n",
       "    .dataframe tbody tr th:only-of-type {\n",
       "        vertical-align: middle;\n",
       "    }\n",
       "\n",
       "    .dataframe tbody tr th {\n",
       "        vertical-align: top;\n",
       "    }\n",
       "\n",
       "    .dataframe thead th {\n",
       "        text-align: right;\n",
       "    }\n",
       "</style>\n",
       "<table border=\"1\" class=\"dataframe\">\n",
       "  <thead>\n",
       "    <tr style=\"text-align: right;\">\n",
       "      <th></th>\n",
       "      <th>Invoice ID</th>\n",
       "      <th>Branch</th>\n",
       "      <th>City</th>\n",
       "      <th>Customer type</th>\n",
       "      <th>Gender</th>\n",
       "      <th>Product line</th>\n",
       "      <th>Unit price</th>\n",
       "      <th>Quantity</th>\n",
       "      <th>Tax 5%</th>\n",
       "      <th>Total</th>\n",
       "      <th>Date</th>\n",
       "      <th>Time</th>\n",
       "      <th>Payment</th>\n",
       "      <th>cogs</th>\n",
       "      <th>gross margin percentage</th>\n",
       "      <th>gross income</th>\n",
       "      <th>Rating</th>\n",
       "    </tr>\n",
       "  </thead>\n",
       "  <tbody>\n",
       "    <tr>\n",
       "      <th>0</th>\n",
       "      <td>750-67-8428</td>\n",
       "      <td>A</td>\n",
       "      <td>Yangon</td>\n",
       "      <td>Member</td>\n",
       "      <td>Female</td>\n",
       "      <td>Health and beauty</td>\n",
       "      <td>74.69</td>\n",
       "      <td>7</td>\n",
       "      <td>26.1415</td>\n",
       "      <td>548.9715</td>\n",
       "      <td>1/5/2019</td>\n",
       "      <td>13:08</td>\n",
       "      <td>Ewallet</td>\n",
       "      <td>522.83</td>\n",
       "      <td>4.761905</td>\n",
       "      <td>26.1415</td>\n",
       "      <td>9.1</td>\n",
       "    </tr>\n",
       "    <tr>\n",
       "      <th>1</th>\n",
       "      <td>226-31-3081</td>\n",
       "      <td>C</td>\n",
       "      <td>Naypyitaw</td>\n",
       "      <td>Normal</td>\n",
       "      <td>Female</td>\n",
       "      <td>Electronic accessories</td>\n",
       "      <td>15.28</td>\n",
       "      <td>5</td>\n",
       "      <td>3.8200</td>\n",
       "      <td>80.2200</td>\n",
       "      <td>3/8/2019</td>\n",
       "      <td>10:29</td>\n",
       "      <td>Cash</td>\n",
       "      <td>76.40</td>\n",
       "      <td>4.761905</td>\n",
       "      <td>3.8200</td>\n",
       "      <td>9.6</td>\n",
       "    </tr>\n",
       "    <tr>\n",
       "      <th>2</th>\n",
       "      <td>631-41-3108</td>\n",
       "      <td>A</td>\n",
       "      <td>Yangon</td>\n",
       "      <td>Normal</td>\n",
       "      <td>Male</td>\n",
       "      <td>Home and lifestyle</td>\n",
       "      <td>46.33</td>\n",
       "      <td>7</td>\n",
       "      <td>16.2155</td>\n",
       "      <td>340.5255</td>\n",
       "      <td>3/3/2019</td>\n",
       "      <td>13:23</td>\n",
       "      <td>Credit card</td>\n",
       "      <td>324.31</td>\n",
       "      <td>4.761905</td>\n",
       "      <td>16.2155</td>\n",
       "      <td>7.4</td>\n",
       "    </tr>\n",
       "    <tr>\n",
       "      <th>3</th>\n",
       "      <td>123-19-1176</td>\n",
       "      <td>A</td>\n",
       "      <td>Yangon</td>\n",
       "      <td>Member</td>\n",
       "      <td>Male</td>\n",
       "      <td>Health and beauty</td>\n",
       "      <td>58.22</td>\n",
       "      <td>8</td>\n",
       "      <td>23.2880</td>\n",
       "      <td>489.0480</td>\n",
       "      <td>1/27/2019</td>\n",
       "      <td>20:33</td>\n",
       "      <td>Ewallet</td>\n",
       "      <td>465.76</td>\n",
       "      <td>4.761905</td>\n",
       "      <td>23.2880</td>\n",
       "      <td>8.4</td>\n",
       "    </tr>\n",
       "    <tr>\n",
       "      <th>4</th>\n",
       "      <td>373-73-7910</td>\n",
       "      <td>A</td>\n",
       "      <td>Yangon</td>\n",
       "      <td>Normal</td>\n",
       "      <td>Male</td>\n",
       "      <td>Sports and travel</td>\n",
       "      <td>86.31</td>\n",
       "      <td>7</td>\n",
       "      <td>30.2085</td>\n",
       "      <td>634.3785</td>\n",
       "      <td>2/8/2019</td>\n",
       "      <td>10:37</td>\n",
       "      <td>Ewallet</td>\n",
       "      <td>604.17</td>\n",
       "      <td>4.761905</td>\n",
       "      <td>30.2085</td>\n",
       "      <td>5.3</td>\n",
       "    </tr>\n",
       "  </tbody>\n",
       "</table>\n",
       "</div>"
      ],
      "text/plain": [
       "    Invoice ID Branch       City Customer type  Gender  \\\n",
       "0  750-67-8428      A     Yangon        Member  Female   \n",
       "1  226-31-3081      C  Naypyitaw        Normal  Female   \n",
       "2  631-41-3108      A     Yangon        Normal    Male   \n",
       "3  123-19-1176      A     Yangon        Member    Male   \n",
       "4  373-73-7910      A     Yangon        Normal    Male   \n",
       "\n",
       "             Product line  Unit price  Quantity   Tax 5%     Total       Date  \\\n",
       "0       Health and beauty       74.69         7  26.1415  548.9715   1/5/2019   \n",
       "1  Electronic accessories       15.28         5   3.8200   80.2200   3/8/2019   \n",
       "2      Home and lifestyle       46.33         7  16.2155  340.5255   3/3/2019   \n",
       "3       Health and beauty       58.22         8  23.2880  489.0480  1/27/2019   \n",
       "4       Sports and travel       86.31         7  30.2085  634.3785   2/8/2019   \n",
       "\n",
       "    Time      Payment    cogs  gross margin percentage  gross income  Rating  \n",
       "0  13:08      Ewallet  522.83                 4.761905       26.1415     9.1  \n",
       "1  10:29         Cash   76.40                 4.761905        3.8200     9.6  \n",
       "2  13:23  Credit card  324.31                 4.761905       16.2155     7.4  \n",
       "3  20:33      Ewallet  465.76                 4.761905       23.2880     8.4  \n",
       "4  10:37      Ewallet  604.17                 4.761905       30.2085     5.3  "
      ]
     },
     "execution_count": 6,
     "metadata": {},
     "output_type": "execute_result"
    }
   ],
   "source": [
    "df.head()\n"
   ]
  },
  {
   "cell_type": "code",
   "execution_count": null,
   "metadata": {},
   "outputs": [],
   "source": []
  },
  {
   "cell_type": "markdown",
   "metadata": {
    "id": "H7IyOIfIONXy"
   },
   "source": [
    "2. Знайдіть інвойс (рядок в даних) в категорії товарів Electronic accessories, в якому був куплений товар з найбільшою кількістю і найбільшою ціною. Виведіть цей рядок даних на екран."
   ]
  },
  {
   "cell_type": "code",
   "execution_count": 8,
   "metadata": {},
   "outputs": [
    {
     "data": {
      "text/html": [
       "<div>\n",
       "<style scoped>\n",
       "    .dataframe tbody tr th:only-of-type {\n",
       "        vertical-align: middle;\n",
       "    }\n",
       "\n",
       "    .dataframe tbody tr th {\n",
       "        vertical-align: top;\n",
       "    }\n",
       "\n",
       "    .dataframe thead th {\n",
       "        text-align: right;\n",
       "    }\n",
       "</style>\n",
       "<table border=\"1\" class=\"dataframe\">\n",
       "  <thead>\n",
       "    <tr style=\"text-align: right;\">\n",
       "      <th></th>\n",
       "      <th>Invoice ID</th>\n",
       "      <th>Branch</th>\n",
       "      <th>City</th>\n",
       "      <th>Customer type</th>\n",
       "      <th>Gender</th>\n",
       "      <th>Product line</th>\n",
       "      <th>Unit price</th>\n",
       "      <th>Quantity</th>\n",
       "      <th>Tax 5%</th>\n",
       "      <th>Total</th>\n",
       "      <th>Date</th>\n",
       "      <th>Time</th>\n",
       "      <th>Payment</th>\n",
       "      <th>cogs</th>\n",
       "      <th>gross margin percentage</th>\n",
       "      <th>gross income</th>\n",
       "      <th>Rating</th>\n",
       "    </tr>\n",
       "  </thead>\n",
       "  <tbody>\n",
       "    <tr>\n",
       "      <th>1</th>\n",
       "      <td>226-31-3081</td>\n",
       "      <td>C</td>\n",
       "      <td>Naypyitaw</td>\n",
       "      <td>Normal</td>\n",
       "      <td>Female</td>\n",
       "      <td>Electronic accessories</td>\n",
       "      <td>15.28</td>\n",
       "      <td>5</td>\n",
       "      <td>3.8200</td>\n",
       "      <td>80.2200</td>\n",
       "      <td>3/8/2019</td>\n",
       "      <td>10:29</td>\n",
       "      <td>Cash</td>\n",
       "      <td>76.40</td>\n",
       "      <td>4.761905</td>\n",
       "      <td>3.8200</td>\n",
       "      <td>9.6</td>\n",
       "    </tr>\n",
       "    <tr>\n",
       "      <th>5</th>\n",
       "      <td>699-14-3026</td>\n",
       "      <td>C</td>\n",
       "      <td>Naypyitaw</td>\n",
       "      <td>Normal</td>\n",
       "      <td>Male</td>\n",
       "      <td>Electronic accessories</td>\n",
       "      <td>85.39</td>\n",
       "      <td>7</td>\n",
       "      <td>29.8865</td>\n",
       "      <td>627.6165</td>\n",
       "      <td>3/25/2019</td>\n",
       "      <td>18:30</td>\n",
       "      <td>Ewallet</td>\n",
       "      <td>597.73</td>\n",
       "      <td>4.761905</td>\n",
       "      <td>29.8865</td>\n",
       "      <td>4.1</td>\n",
       "    </tr>\n",
       "    <tr>\n",
       "      <th>6</th>\n",
       "      <td>355-53-5943</td>\n",
       "      <td>A</td>\n",
       "      <td>Yangon</td>\n",
       "      <td>Member</td>\n",
       "      <td>Female</td>\n",
       "      <td>Electronic accessories</td>\n",
       "      <td>68.84</td>\n",
       "      <td>6</td>\n",
       "      <td>20.6520</td>\n",
       "      <td>433.6920</td>\n",
       "      <td>2/25/2019</td>\n",
       "      <td>14:36</td>\n",
       "      <td>Ewallet</td>\n",
       "      <td>413.04</td>\n",
       "      <td>4.761905</td>\n",
       "      <td>20.6520</td>\n",
       "      <td>5.8</td>\n",
       "    </tr>\n",
       "    <tr>\n",
       "      <th>11</th>\n",
       "      <td>529-56-3974</td>\n",
       "      <td>B</td>\n",
       "      <td>Mandalay</td>\n",
       "      <td>Member</td>\n",
       "      <td>Male</td>\n",
       "      <td>Electronic accessories</td>\n",
       "      <td>25.51</td>\n",
       "      <td>4</td>\n",
       "      <td>5.1020</td>\n",
       "      <td>107.1420</td>\n",
       "      <td>3/9/2019</td>\n",
       "      <td>17:03</td>\n",
       "      <td>Cash</td>\n",
       "      <td>102.04</td>\n",
       "      <td>4.761905</td>\n",
       "      <td>5.1020</td>\n",
       "      <td>6.8</td>\n",
       "    </tr>\n",
       "    <tr>\n",
       "      <th>12</th>\n",
       "      <td>365-64-0515</td>\n",
       "      <td>A</td>\n",
       "      <td>Yangon</td>\n",
       "      <td>Normal</td>\n",
       "      <td>Female</td>\n",
       "      <td>Electronic accessories</td>\n",
       "      <td>46.95</td>\n",
       "      <td>5</td>\n",
       "      <td>11.7375</td>\n",
       "      <td>246.4875</td>\n",
       "      <td>2/12/2019</td>\n",
       "      <td>10:25</td>\n",
       "      <td>Ewallet</td>\n",
       "      <td>234.75</td>\n",
       "      <td>4.761905</td>\n",
       "      <td>11.7375</td>\n",
       "      <td>7.1</td>\n",
       "    </tr>\n",
       "    <tr>\n",
       "      <th>...</th>\n",
       "      <td>...</td>\n",
       "      <td>...</td>\n",
       "      <td>...</td>\n",
       "      <td>...</td>\n",
       "      <td>...</td>\n",
       "      <td>...</td>\n",
       "      <td>...</td>\n",
       "      <td>...</td>\n",
       "      <td>...</td>\n",
       "      <td>...</td>\n",
       "      <td>...</td>\n",
       "      <td>...</td>\n",
       "      <td>...</td>\n",
       "      <td>...</td>\n",
       "      <td>...</td>\n",
       "      <td>...</td>\n",
       "      <td>...</td>\n",
       "    </tr>\n",
       "    <tr>\n",
       "      <th>978</th>\n",
       "      <td>156-20-0370</td>\n",
       "      <td>B</td>\n",
       "      <td>Mandalay</td>\n",
       "      <td>Normal</td>\n",
       "      <td>Female</td>\n",
       "      <td>Electronic accessories</td>\n",
       "      <td>25.45</td>\n",
       "      <td>1</td>\n",
       "      <td>1.2725</td>\n",
       "      <td>26.7225</td>\n",
       "      <td>3/10/2019</td>\n",
       "      <td>18:10</td>\n",
       "      <td>Credit card</td>\n",
       "      <td>25.45</td>\n",
       "      <td>4.761905</td>\n",
       "      <td>1.2725</td>\n",
       "      <td>5.1</td>\n",
       "    </tr>\n",
       "    <tr>\n",
       "      <th>984</th>\n",
       "      <td>189-40-5216</td>\n",
       "      <td>C</td>\n",
       "      <td>Naypyitaw</td>\n",
       "      <td>Normal</td>\n",
       "      <td>Male</td>\n",
       "      <td>Electronic accessories</td>\n",
       "      <td>96.37</td>\n",
       "      <td>7</td>\n",
       "      <td>33.7295</td>\n",
       "      <td>708.3195</td>\n",
       "      <td>1/9/2019</td>\n",
       "      <td>11:40</td>\n",
       "      <td>Cash</td>\n",
       "      <td>674.59</td>\n",
       "      <td>4.761905</td>\n",
       "      <td>33.7295</td>\n",
       "      <td>6.0</td>\n",
       "    </tr>\n",
       "    <tr>\n",
       "      <th>988</th>\n",
       "      <td>267-62-7380</td>\n",
       "      <td>C</td>\n",
       "      <td>Naypyitaw</td>\n",
       "      <td>Member</td>\n",
       "      <td>Male</td>\n",
       "      <td>Electronic accessories</td>\n",
       "      <td>82.34</td>\n",
       "      <td>10</td>\n",
       "      <td>41.1700</td>\n",
       "      <td>864.5700</td>\n",
       "      <td>3/29/2019</td>\n",
       "      <td>19:12</td>\n",
       "      <td>Ewallet</td>\n",
       "      <td>823.40</td>\n",
       "      <td>4.761905</td>\n",
       "      <td>41.1700</td>\n",
       "      <td>4.3</td>\n",
       "    </tr>\n",
       "    <tr>\n",
       "      <th>992</th>\n",
       "      <td>745-74-0715</td>\n",
       "      <td>A</td>\n",
       "      <td>Yangon</td>\n",
       "      <td>Normal</td>\n",
       "      <td>Male</td>\n",
       "      <td>Electronic accessories</td>\n",
       "      <td>58.03</td>\n",
       "      <td>2</td>\n",
       "      <td>5.8030</td>\n",
       "      <td>121.8630</td>\n",
       "      <td>3/10/2019</td>\n",
       "      <td>20:46</td>\n",
       "      <td>Ewallet</td>\n",
       "      <td>116.06</td>\n",
       "      <td>4.761905</td>\n",
       "      <td>5.8030</td>\n",
       "      <td>8.8</td>\n",
       "    </tr>\n",
       "    <tr>\n",
       "      <th>994</th>\n",
       "      <td>652-49-6720</td>\n",
       "      <td>C</td>\n",
       "      <td>Naypyitaw</td>\n",
       "      <td>Member</td>\n",
       "      <td>Female</td>\n",
       "      <td>Electronic accessories</td>\n",
       "      <td>60.95</td>\n",
       "      <td>1</td>\n",
       "      <td>3.0475</td>\n",
       "      <td>63.9975</td>\n",
       "      <td>2/18/2019</td>\n",
       "      <td>11:40</td>\n",
       "      <td>Ewallet</td>\n",
       "      <td>60.95</td>\n",
       "      <td>4.761905</td>\n",
       "      <td>3.0475</td>\n",
       "      <td>5.9</td>\n",
       "    </tr>\n",
       "  </tbody>\n",
       "</table>\n",
       "<p>170 rows × 17 columns</p>\n",
       "</div>"
      ],
      "text/plain": [
       "      Invoice ID Branch       City Customer type  Gender  \\\n",
       "1    226-31-3081      C  Naypyitaw        Normal  Female   \n",
       "5    699-14-3026      C  Naypyitaw        Normal    Male   \n",
       "6    355-53-5943      A     Yangon        Member  Female   \n",
       "11   529-56-3974      B   Mandalay        Member    Male   \n",
       "12   365-64-0515      A     Yangon        Normal  Female   \n",
       "..           ...    ...        ...           ...     ...   \n",
       "978  156-20-0370      B   Mandalay        Normal  Female   \n",
       "984  189-40-5216      C  Naypyitaw        Normal    Male   \n",
       "988  267-62-7380      C  Naypyitaw        Member    Male   \n",
       "992  745-74-0715      A     Yangon        Normal    Male   \n",
       "994  652-49-6720      C  Naypyitaw        Member  Female   \n",
       "\n",
       "               Product line  Unit price  Quantity   Tax 5%     Total  \\\n",
       "1    Electronic accessories       15.28         5   3.8200   80.2200   \n",
       "5    Electronic accessories       85.39         7  29.8865  627.6165   \n",
       "6    Electronic accessories       68.84         6  20.6520  433.6920   \n",
       "11   Electronic accessories       25.51         4   5.1020  107.1420   \n",
       "12   Electronic accessories       46.95         5  11.7375  246.4875   \n",
       "..                      ...         ...       ...      ...       ...   \n",
       "978  Electronic accessories       25.45         1   1.2725   26.7225   \n",
       "984  Electronic accessories       96.37         7  33.7295  708.3195   \n",
       "988  Electronic accessories       82.34        10  41.1700  864.5700   \n",
       "992  Electronic accessories       58.03         2   5.8030  121.8630   \n",
       "994  Electronic accessories       60.95         1   3.0475   63.9975   \n",
       "\n",
       "          Date   Time      Payment    cogs  gross margin percentage  \\\n",
       "1     3/8/2019  10:29         Cash   76.40                 4.761905   \n",
       "5    3/25/2019  18:30      Ewallet  597.73                 4.761905   \n",
       "6    2/25/2019  14:36      Ewallet  413.04                 4.761905   \n",
       "11    3/9/2019  17:03         Cash  102.04                 4.761905   \n",
       "12   2/12/2019  10:25      Ewallet  234.75                 4.761905   \n",
       "..         ...    ...          ...     ...                      ...   \n",
       "978  3/10/2019  18:10  Credit card   25.45                 4.761905   \n",
       "984   1/9/2019  11:40         Cash  674.59                 4.761905   \n",
       "988  3/29/2019  19:12      Ewallet  823.40                 4.761905   \n",
       "992  3/10/2019  20:46      Ewallet  116.06                 4.761905   \n",
       "994  2/18/2019  11:40      Ewallet   60.95                 4.761905   \n",
       "\n",
       "     gross income  Rating  \n",
       "1          3.8200     9.6  \n",
       "5         29.8865     4.1  \n",
       "6         20.6520     5.8  \n",
       "11         5.1020     6.8  \n",
       "12        11.7375     7.1  \n",
       "..            ...     ...  \n",
       "978        1.2725     5.1  \n",
       "984       33.7295     6.0  \n",
       "988       41.1700     4.3  \n",
       "992        5.8030     8.8  \n",
       "994        3.0475     5.9  \n",
       "\n",
       "[170 rows x 17 columns]"
      ]
     },
     "execution_count": 8,
     "metadata": {},
     "output_type": "execute_result"
    }
   ],
   "source": [
    "electronic_invoices = df[df['Product line'] == 'Electronic accessories']\n",
    "electronic_invoices"
   ]
  },
  {
   "cell_type": "code",
   "execution_count": 9,
   "metadata": {},
   "outputs": [
    {
     "data": {
      "text/plain": [
       "(10, 99.73)"
      ]
     },
     "execution_count": 9,
     "metadata": {},
     "output_type": "execute_result"
    }
   ],
   "source": [
    "max_quantity = electronic_invoices['Quantity'].max()\n",
    "max_price = electronic_invoices['Unit price'].max()\n",
    "max_quantity, max_price"
   ]
  },
  {
   "cell_type": "code",
   "execution_count": 12,
   "metadata": {},
   "outputs": [
    {
     "data": {
      "text/html": [
       "<div>\n",
       "<style scoped>\n",
       "    .dataframe tbody tr th:only-of-type {\n",
       "        vertical-align: middle;\n",
       "    }\n",
       "\n",
       "    .dataframe tbody tr th {\n",
       "        vertical-align: top;\n",
       "    }\n",
       "\n",
       "    .dataframe thead th {\n",
       "        text-align: right;\n",
       "    }\n",
       "</style>\n",
       "<table border=\"1\" class=\"dataframe\">\n",
       "  <thead>\n",
       "    <tr style=\"text-align: right;\">\n",
       "      <th></th>\n",
       "      <th>Invoice ID</th>\n",
       "      <th>Branch</th>\n",
       "      <th>City</th>\n",
       "      <th>Customer type</th>\n",
       "      <th>Gender</th>\n",
       "      <th>Product line</th>\n",
       "      <th>Unit price</th>\n",
       "      <th>Quantity</th>\n",
       "      <th>Tax 5%</th>\n",
       "      <th>Total</th>\n",
       "      <th>Date</th>\n",
       "      <th>Time</th>\n",
       "      <th>Payment</th>\n",
       "      <th>cogs</th>\n",
       "      <th>gross margin percentage</th>\n",
       "      <th>gross income</th>\n",
       "      <th>Rating</th>\n",
       "    </tr>\n",
       "  </thead>\n",
       "  <tbody>\n",
       "  </tbody>\n",
       "</table>\n",
       "</div>"
      ],
      "text/plain": [
       "Empty DataFrame\n",
       "Columns: [Invoice ID, Branch, City, Customer type, Gender, Product line, Unit price, Quantity, Tax 5%, Total, Date, Time, Payment, cogs, gross margin percentage, gross income, Rating]\n",
       "Index: []"
      ]
     },
     "execution_count": 12,
     "metadata": {},
     "output_type": "execute_result"
    }
   ],
   "source": [
    "result = electronic_invoices[(electronic_invoices['Quantity'] == max_quantity) & (electronic_invoices['Unit price'] == max_price)]\n",
    "result.head()"
   ]
  },
  {
   "cell_type": "code",
   "execution_count": 17,
   "metadata": {},
   "outputs": [
    {
     "data": {
      "text/html": [
       "<div>\n",
       "<style scoped>\n",
       "    .dataframe tbody tr th:only-of-type {\n",
       "        vertical-align: middle;\n",
       "    }\n",
       "\n",
       "    .dataframe tbody tr th {\n",
       "        vertical-align: top;\n",
       "    }\n",
       "\n",
       "    .dataframe thead th {\n",
       "        text-align: right;\n",
       "    }\n",
       "</style>\n",
       "<table border=\"1\" class=\"dataframe\">\n",
       "  <thead>\n",
       "    <tr style=\"text-align: right;\">\n",
       "      <th></th>\n",
       "      <th>Invoice ID</th>\n",
       "      <th>Branch</th>\n",
       "      <th>City</th>\n",
       "      <th>Customer type</th>\n",
       "      <th>Gender</th>\n",
       "      <th>Product line</th>\n",
       "      <th>Unit price</th>\n",
       "      <th>Quantity</th>\n",
       "      <th>Tax 5%</th>\n",
       "      <th>Total</th>\n",
       "      <th>Date</th>\n",
       "      <th>Time</th>\n",
       "      <th>Payment</th>\n",
       "      <th>cogs</th>\n",
       "      <th>gross margin percentage</th>\n",
       "      <th>gross income</th>\n",
       "      <th>Rating</th>\n",
       "    </tr>\n",
       "  </thead>\n",
       "  <tbody>\n",
       "    <tr>\n",
       "      <th>75</th>\n",
       "      <td>732-94-0499</td>\n",
       "      <td>C</td>\n",
       "      <td>Naypyitaw</td>\n",
       "      <td>Normal</td>\n",
       "      <td>Female</td>\n",
       "      <td>Electronic accessories</td>\n",
       "      <td>41.65</td>\n",
       "      <td>10</td>\n",
       "      <td>20.825</td>\n",
       "      <td>437.325</td>\n",
       "      <td>1/13/2019</td>\n",
       "      <td>17:04</td>\n",
       "      <td>Credit card</td>\n",
       "      <td>416.5</td>\n",
       "      <td>4.761905</td>\n",
       "      <td>20.825</td>\n",
       "      <td>5.4</td>\n",
       "    </tr>\n",
       "    <tr>\n",
       "      <th>105</th>\n",
       "      <td>704-48-3927</td>\n",
       "      <td>A</td>\n",
       "      <td>Yangon</td>\n",
       "      <td>Member</td>\n",
       "      <td>Male</td>\n",
       "      <td>Electronic accessories</td>\n",
       "      <td>88.67</td>\n",
       "      <td>10</td>\n",
       "      <td>44.335</td>\n",
       "      <td>931.035</td>\n",
       "      <td>1/12/2019</td>\n",
       "      <td>14:50</td>\n",
       "      <td>Ewallet</td>\n",
       "      <td>886.7</td>\n",
       "      <td>4.761905</td>\n",
       "      <td>44.335</td>\n",
       "      <td>7.3</td>\n",
       "    </tr>\n",
       "    <tr>\n",
       "      <th>109</th>\n",
       "      <td>861-77-0145</td>\n",
       "      <td>C</td>\n",
       "      <td>Naypyitaw</td>\n",
       "      <td>Member</td>\n",
       "      <td>Male</td>\n",
       "      <td>Electronic accessories</td>\n",
       "      <td>81.97</td>\n",
       "      <td>10</td>\n",
       "      <td>40.985</td>\n",
       "      <td>860.685</td>\n",
       "      <td>3/3/2019</td>\n",
       "      <td>14:30</td>\n",
       "      <td>Cash</td>\n",
       "      <td>819.7</td>\n",
       "      <td>4.761905</td>\n",
       "      <td>40.985</td>\n",
       "      <td>9.2</td>\n",
       "    </tr>\n",
       "    <tr>\n",
       "      <th>290</th>\n",
       "      <td>139-20-0155</td>\n",
       "      <td>B</td>\n",
       "      <td>Mandalay</td>\n",
       "      <td>Member</td>\n",
       "      <td>Male</td>\n",
       "      <td>Electronic accessories</td>\n",
       "      <td>40.30</td>\n",
       "      <td>10</td>\n",
       "      <td>20.150</td>\n",
       "      <td>423.150</td>\n",
       "      <td>1/24/2019</td>\n",
       "      <td>17:37</td>\n",
       "      <td>Credit card</td>\n",
       "      <td>403.0</td>\n",
       "      <td>4.761905</td>\n",
       "      <td>20.150</td>\n",
       "      <td>7.0</td>\n",
       "    </tr>\n",
       "    <tr>\n",
       "      <th>314</th>\n",
       "      <td>227-07-4446</td>\n",
       "      <td>C</td>\n",
       "      <td>Naypyitaw</td>\n",
       "      <td>Member</td>\n",
       "      <td>Female</td>\n",
       "      <td>Electronic accessories</td>\n",
       "      <td>78.13</td>\n",
       "      <td>10</td>\n",
       "      <td>39.065</td>\n",
       "      <td>820.365</td>\n",
       "      <td>2/10/2019</td>\n",
       "      <td>20:51</td>\n",
       "      <td>Cash</td>\n",
       "      <td>781.3</td>\n",
       "      <td>4.761905</td>\n",
       "      <td>39.065</td>\n",
       "      <td>4.4</td>\n",
       "    </tr>\n",
       "  </tbody>\n",
       "</table>\n",
       "</div>"
      ],
      "text/plain": [
       "      Invoice ID Branch       City Customer type  Gender  \\\n",
       "75   732-94-0499      C  Naypyitaw        Normal  Female   \n",
       "105  704-48-3927      A     Yangon        Member    Male   \n",
       "109  861-77-0145      C  Naypyitaw        Member    Male   \n",
       "290  139-20-0155      B   Mandalay        Member    Male   \n",
       "314  227-07-4446      C  Naypyitaw        Member  Female   \n",
       "\n",
       "               Product line  Unit price  Quantity  Tax 5%    Total       Date  \\\n",
       "75   Electronic accessories       41.65        10  20.825  437.325  1/13/2019   \n",
       "105  Electronic accessories       88.67        10  44.335  931.035  1/12/2019   \n",
       "109  Electronic accessories       81.97        10  40.985  860.685   3/3/2019   \n",
       "290  Electronic accessories       40.30        10  20.150  423.150  1/24/2019   \n",
       "314  Electronic accessories       78.13        10  39.065  820.365  2/10/2019   \n",
       "\n",
       "      Time      Payment   cogs  gross margin percentage  gross income  Rating  \n",
       "75   17:04  Credit card  416.5                 4.761905        20.825     5.4  \n",
       "105  14:50      Ewallet  886.7                 4.761905        44.335     7.3  \n",
       "109  14:30         Cash  819.7                 4.761905        40.985     9.2  \n",
       "290  17:37  Credit card  403.0                 4.761905        20.150     7.0  \n",
       "314  20:51         Cash  781.3                 4.761905        39.065     4.4  "
      ]
     },
     "execution_count": 17,
     "metadata": {},
     "output_type": "execute_result"
    }
   ],
   "source": [
    "result = electronic_invoices[(electronic_invoices['Quantity'] == max_quantity)]\n",
    "result.head()"
   ]
  },
  {
   "cell_type": "code",
   "execution_count": 19,
   "metadata": {},
   "outputs": [
    {
     "data": {
      "text/html": [
       "<div>\n",
       "<style scoped>\n",
       "    .dataframe tbody tr th:only-of-type {\n",
       "        vertical-align: middle;\n",
       "    }\n",
       "\n",
       "    .dataframe tbody tr th {\n",
       "        vertical-align: top;\n",
       "    }\n",
       "\n",
       "    .dataframe thead th {\n",
       "        text-align: right;\n",
       "    }\n",
       "</style>\n",
       "<table border=\"1\" class=\"dataframe\">\n",
       "  <thead>\n",
       "    <tr style=\"text-align: right;\">\n",
       "      <th></th>\n",
       "      <th>Invoice ID</th>\n",
       "      <th>Branch</th>\n",
       "      <th>City</th>\n",
       "      <th>Customer type</th>\n",
       "      <th>Gender</th>\n",
       "      <th>Product line</th>\n",
       "      <th>Unit price</th>\n",
       "      <th>Quantity</th>\n",
       "      <th>Tax 5%</th>\n",
       "      <th>Total</th>\n",
       "      <th>Date</th>\n",
       "      <th>Time</th>\n",
       "      <th>Payment</th>\n",
       "      <th>cogs</th>\n",
       "      <th>gross margin percentage</th>\n",
       "      <th>gross income</th>\n",
       "      <th>Rating</th>\n",
       "    </tr>\n",
       "  </thead>\n",
       "  <tbody>\n",
       "    <tr>\n",
       "      <th>209</th>\n",
       "      <td>817-69-8206</td>\n",
       "      <td>B</td>\n",
       "      <td>Mandalay</td>\n",
       "      <td>Normal</td>\n",
       "      <td>Female</td>\n",
       "      <td>Electronic accessories</td>\n",
       "      <td>99.73</td>\n",
       "      <td>9</td>\n",
       "      <td>44.8785</td>\n",
       "      <td>942.4485</td>\n",
       "      <td>3/2/2019</td>\n",
       "      <td>19:42</td>\n",
       "      <td>Credit card</td>\n",
       "      <td>897.57</td>\n",
       "      <td>4.761905</td>\n",
       "      <td>44.8785</td>\n",
       "      <td>6.5</td>\n",
       "    </tr>\n",
       "  </tbody>\n",
       "</table>\n",
       "</div>"
      ],
      "text/plain": [
       "      Invoice ID Branch      City Customer type  Gender  \\\n",
       "209  817-69-8206      B  Mandalay        Normal  Female   \n",
       "\n",
       "               Product line  Unit price  Quantity   Tax 5%     Total  \\\n",
       "209  Electronic accessories       99.73         9  44.8785  942.4485   \n",
       "\n",
       "         Date   Time      Payment    cogs  gross margin percentage  \\\n",
       "209  3/2/2019  19:42  Credit card  897.57                 4.761905   \n",
       "\n",
       "     gross income  Rating  \n",
       "209       44.8785     6.5  "
      ]
     },
     "execution_count": 19,
     "metadata": {},
     "output_type": "execute_result"
    }
   ],
   "source": [
    "result = electronic_invoices[(electronic_invoices['Unit price'] == max_price)]\n",
    "result.head()"
   ]
  },
  {
   "cell_type": "markdown",
   "metadata": {},
   "source": [
    "Такий рядок не існує, бо рядок з найвищою ціною не має найвищої кількості, а рядок з найвищою кількістю не має у собі найвищої ціни.\n",
    "Можна сказати, що рядок 209, який містить у собі найвищу ціну по всіх даних, має найвищу кількість у розмірі 9, що не є найвищою кількістю для усіх даних з нашого дата фрейму, а є найвищою кількістю для найвищої ціни. "
   ]
  },
  {
   "cell_type": "markdown",
   "metadata": {
    "id": "n2iSihPRDHvv"
   },
   "source": [
    "3.1. Створіть нову колонку в даних `Rating Category`, яка визначає категорію рейтингу: високий, середній чи низький за наступним правилом:\n",
    "- якщо рейтинг вищий або рівний 8 - то він високий (`High`)\n",
    "- якщо рейтинг від 6 до 8 не включаючи - то він середній (`Medium`)\n",
    "- інакше - низький (`Low`)."
   ]
  },
  {
   "cell_type": "code",
   "execution_count": 24,
   "metadata": {},
   "outputs": [],
   "source": [
    "def category_mapping(val):\n",
    "    if val >= 8:\n",
    "        return 'High'\n",
    "    elif 6 <= val < 8:\n",
    "        return 'Medium'\n",
    "    else:\n",
    "        return 'Low'"
   ]
  },
  {
   "cell_type": "code",
   "execution_count": 26,
   "metadata": {},
   "outputs": [
    {
     "data": {
      "text/html": [
       "<div>\n",
       "<style scoped>\n",
       "    .dataframe tbody tr th:only-of-type {\n",
       "        vertical-align: middle;\n",
       "    }\n",
       "\n",
       "    .dataframe tbody tr th {\n",
       "        vertical-align: top;\n",
       "    }\n",
       "\n",
       "    .dataframe thead th {\n",
       "        text-align: right;\n",
       "    }\n",
       "</style>\n",
       "<table border=\"1\" class=\"dataframe\">\n",
       "  <thead>\n",
       "    <tr style=\"text-align: right;\">\n",
       "      <th></th>\n",
       "      <th>Rating</th>\n",
       "      <th>Rating Category</th>\n",
       "    </tr>\n",
       "  </thead>\n",
       "  <tbody>\n",
       "    <tr>\n",
       "      <th>0</th>\n",
       "      <td>9.1</td>\n",
       "      <td>High</td>\n",
       "    </tr>\n",
       "    <tr>\n",
       "      <th>1</th>\n",
       "      <td>9.6</td>\n",
       "      <td>High</td>\n",
       "    </tr>\n",
       "    <tr>\n",
       "      <th>2</th>\n",
       "      <td>7.4</td>\n",
       "      <td>Medium</td>\n",
       "    </tr>\n",
       "    <tr>\n",
       "      <th>3</th>\n",
       "      <td>8.4</td>\n",
       "      <td>High</td>\n",
       "    </tr>\n",
       "    <tr>\n",
       "      <th>4</th>\n",
       "      <td>5.3</td>\n",
       "      <td>Low</td>\n",
       "    </tr>\n",
       "  </tbody>\n",
       "</table>\n",
       "</div>"
      ],
      "text/plain": [
       "   Rating Rating Category\n",
       "0     9.1            High\n",
       "1     9.6            High\n",
       "2     7.4          Medium\n",
       "3     8.4            High\n",
       "4     5.3             Low"
      ]
     },
     "execution_count": 26,
     "metadata": {},
     "output_type": "execute_result"
    }
   ],
   "source": [
    "df['Rating Category'] = df.Rating.apply(category_mapping)\n",
    "df[['Rating', 'Rating Category']].head()"
   ]
  },
  {
   "cell_type": "markdown",
   "metadata": {
    "id": "0tTSRjXDEdDe"
   },
   "source": [
    "3.2. Виведіть, який відсоток даних становить кожне зі значень категорій рейтингу."
   ]
  },
  {
   "cell_type": "code",
   "execution_count": 29,
   "metadata": {
    "id": "gYd_Y96ODS3a"
   },
   "outputs": [
    {
     "data": {
      "text/plain": [
       "Rating Category\n",
       "Medium    356\n",
       "High      329\n",
       "Low       315\n",
       "Name: count, dtype: int64"
      ]
     },
     "execution_count": 29,
     "metadata": {},
     "output_type": "execute_result"
    }
   ],
   "source": [
    "rating_counts = df['Rating Category'].value_counts()\n",
    "rating_counts"
   ]
  },
  {
   "cell_type": "code",
   "execution_count": 32,
   "metadata": {},
   "outputs": [
    {
     "data": {
      "text/plain": [
       "1000"
      ]
     },
     "execution_count": 32,
     "metadata": {},
     "output_type": "execute_result"
    }
   ],
   "source": [
    "total_count = df['Rating Category'].count()\n",
    "total_count"
   ]
  },
  {
   "cell_type": "code",
   "execution_count": 34,
   "metadata": {},
   "outputs": [
    {
     "data": {
      "text/plain": [
       "Rating Category\n",
       "Medium    35.6\n",
       "High      32.9\n",
       "Low       31.5\n",
       "Name: count, dtype: float64"
      ]
     },
     "execution_count": 34,
     "metadata": {},
     "output_type": "execute_result"
    }
   ],
   "source": [
    "percentage = (rating_counts / total_count) * 100\n",
    "percentage"
   ]
  },
  {
   "cell_type": "markdown",
   "metadata": {
    "id": "qGPne8sFHGGM"
   },
   "source": [
    "4.1. Запустіть код нижче аби створити змінну `time`. Ця змінна містить час в форматі \"година:хвилина\". Напишіть функцію `get_hour`, яка буде зі змінної формату як `time` дістати лише години і конвертувати їх у тип `int`.\n",
    "\n",
    "Запустіть написану функцію на змінній `time` та перевірте правильність роботи функції."
   ]
  },
  {
   "cell_type": "code",
   "execution_count": null,
   "metadata": {
    "id": "OZ2DD2AGEZme"
   },
   "outputs": [],
   "source": [
    "time = '11:28'"
   ]
  },
  {
   "cell_type": "code",
   "execution_count": null,
   "metadata": {
    "id": "BxDWBPalHimp"
   },
   "outputs": [],
   "source": []
  },
  {
   "cell_type": "markdown",
   "metadata": {
    "id": "3F7Nmc84IM9C"
   },
   "source": [
    "4.2. З допомогою функції `get_hour` і метода `DataFrame.apply()` створіть нову колонку `Hour` в нашому наборі даних, яка буде містити години здійснення покупки, обчислені на основі часу здійснення покупки `Time`."
   ]
  },
  {
   "cell_type": "code",
   "execution_count": null,
   "metadata": {
    "id": "P-DQNIwQH_Io"
   },
   "outputs": [],
   "source": []
  },
  {
   "cell_type": "markdown",
   "metadata": {
    "id": "VcuugIB2IszQ"
   },
   "source": [
    "4.3. Виведіть кількість значень за кожною годиною покупки і дайте відповідь \"О яких годинах найбільше здійснюють покупок покупці і чому на Ваш погляд саме о цих годинах? Чи це слогічно, що найбільше покупок саме в ці години?\"."
   ]
  },
  {
   "cell_type": "code",
   "execution_count": null,
   "metadata": {
    "id": "5NgTbHM8I-Or"
   },
   "outputs": [],
   "source": []
  },
  {
   "cell_type": "markdown",
   "metadata": {
    "id": "vUniX9GAKtco"
   },
   "source": [
    "5. Виведіть середнє значення чеку (`Total`) для покупок в містах, наявних в даних, за допомогою функції `groupby`."
   ]
  },
  {
   "cell_type": "code",
   "execution_count": null,
   "metadata": {
    "id": "eWRBQoO_JBY3"
   },
   "outputs": [],
   "source": []
  },
  {
   "cell_type": "markdown",
   "metadata": {
    "id": "kgXBFApjLQxp"
   },
   "source": [
    "6. Виведіть кількість покупок, середнє, мінімальне та максимальне значення для загальної суми чеку (Total) в містах, наявних в даних, за допомогою функції groupby.\n",
    "Зробіть висновки з цих показників та дайте рекомендації для мережі супермаркетів."
   ]
  },
  {
   "cell_type": "code",
   "execution_count": null,
   "metadata": {
    "id": "qdspE5eWK0bq"
   },
   "outputs": [],
   "source": []
  },
  {
   "cell_type": "markdown",
   "metadata": {
    "id": "_GPVYoEe6M9E"
   },
   "source": [
    "7. Ми внесли деякі зміни в наш набір даних, тож, давайте запишемо результат у файл. Запишіть оновлену версію даних у файл `supermarket_sales_enriched.csv`. Зверніть увагу, аби не записати нічого зайвого, наприклад, індекси рядків нам в файлі не потрібні, оскільки вони стандартні."
   ]
  },
  {
   "cell_type": "code",
   "execution_count": null,
   "metadata": {
    "id": "MyEE8sAR6ele"
   },
   "outputs": [],
   "source": []
  }
 ],
 "metadata": {
  "colab": {
   "provenance": []
  },
  "kernelspec": {
   "display_name": "Python 3 (ipykernel)",
   "language": "python",
   "name": "python3"
  },
  "language_info": {
   "codemirror_mode": {
    "name": "ipython",
    "version": 3
   },
   "file_extension": ".py",
   "mimetype": "text/x-python",
   "name": "python",
   "nbconvert_exporter": "python",
   "pygments_lexer": "ipython3",
   "version": "3.11.7"
  }
 },
 "nbformat": 4,
 "nbformat_minor": 1
}
